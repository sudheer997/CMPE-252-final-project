{
 "cells": [
  {
   "cell_type": "code",
   "execution_count": 1,
   "id": "bf7a6910-341e-4528-8b44-ced88b5940d9",
   "metadata": {},
   "outputs": [],
   "source": [
    "import tensorflow as tf\n",
    "import numpy as np\n",
    "import matplotlib.pyplot as plt\n",
    "import pandas as pd\n",
    "import time\n",
    "\n",
    "from tensorflow.python.keras import Sequential\n",
    "from tensorflow.python.keras.layers import Dense\n",
    "from tensorflow.keras.optimizers import Adam\n",
    "\n",
    "from DQN import Agent\n",
    "import gym\n"
   ]
  },
  {
   "cell_type": "markdown",
   "id": "528dc988-1ae3-45f9-9190-a1d0c3a1ea0a",
   "metadata": {},
   "source": [
    "### Load the lunar lander environment"
   ]
  },
  {
   "cell_type": "code",
   "execution_count": 2,
   "id": "6547e48e-ccec-4772-b872-03d64ed53dca",
   "metadata": {},
   "outputs": [
    {
     "name": "stdout",
     "output_type": "stream",
     "text": [
      "Number of elements in state space vector :  8\n",
      "Number of actions there :  4\n"
     ]
    }
   ],
   "source": [
    "env = gym.make(\"LunarLander-v2\")\n",
    "print(\"Number of elements in state space vector : \", env.observation_space.shape[0])\n",
    "print(\"Number of actions there : \", env.action_space.n)"
   ]
  },
  {
   "cell_type": "markdown",
   "id": "058042fa-cfeb-4479-9382-7def30517253",
   "metadata": {},
   "source": [
    "In Lunar environment state space vector contains 8 elements, they are :\n",
    "* 0 - Lander horizontal coordinate\n",
    "* 1 - Lander vertical coordinate\n",
    "* 2 - Lander horizontal speed\n",
    "* 3 - Lander vertical speed\n",
    "* 4 - Lander angle\n",
    "* 5 - Lander angular speed\n",
    "* 6 - Bool: 1 if first leg has contact, else 0\n",
    "* 7 - Bool: 1 if second leg has contact, else 0\n",
    "\n",
    "There are four actions avaialbe in lunar lander environment, they are:\n",
    "* 0 - No action\n",
    "* 1 - Fire left engine\n",
    "* 2 - Fire main engine\n",
    "* 3 - Fire right engine"
   ]
  },
  {
   "cell_type": "markdown",
   "id": "d9eb95c9-8c60-4c30-8d79-69f3ee152843",
   "metadata": {
    "tags": []
   },
   "source": [
    "### Define the model parameters"
   ]
  },
  {
   "cell_type": "code",
   "execution_count": 3,
   "id": "ebf43eaa-bda8-4416-b311-d7b7ad9e6779",
   "metadata": {},
   "outputs": [],
   "source": [
    "discount_factor = 0.99\n",
    "learning_rate = 0.00075\n",
    "number_of_epochs = 500\n",
    "mini_batch_size = 32\n",
    "initial_epsilon_value = 1.0\n",
    "epsilon_decay_value = 0.001\n",
    "min_epsilon_value = 0.1\n",
    "copy_rate = 120 # copy the main network to target network after every update rate number of iterations\n",
    "number_of_actions = env.action_space.n\n",
    "input_dim = env.observation_space.shape[0]"
   ]
  },
  {
   "cell_type": "markdown",
   "id": "0085ccd7-9c36-41a9-9f9f-e4429127eb4e",
   "metadata": {},
   "source": [
    "#### we have implemented our DQN model in `DQN/DQN.py`. Now let's create agent and train the DQN model"
   ]
  },
  {
   "cell_type": "code",
   "execution_count": 4,
   "id": "4e7c89ca-ef42-48bc-a8da-dc9b87d173e9",
   "metadata": {},
   "outputs": [
    {
     "name": "stderr",
     "output_type": "stream",
     "text": [
      "2021-12-16 18:31:14.570400: I tensorflow/compiler/jit/xla_cpu_device.cc:41] Not creating XLA devices, tf_xla_enable_xla_devices not set\n",
      "2021-12-16 18:31:14.570626: I tensorflow/core/platform/cpu_feature_guard.cc:142] This TensorFlow binary is optimized with oneAPI Deep Neural Network Library (oneDNN) to use the following CPU instructions in performance-critical operations:  AVX2 FMA\n",
      "To enable them in other operations, rebuild TensorFlow with the appropriate compiler flags.\n"
     ]
    }
   ],
   "source": [
    "dqn_agent = Agent(lr=learning_rate, discount_factor=discount_factor, \n",
    "                  num_actions=number_of_actions, epsilon=initial_epsilon_value, \n",
    "                  batch_size=mini_batch_size, input_dims=input_dim, \n",
    "                  update_rate=copy_rate, epsilon_decay=epsilon_decay_value, epsilon_final=min_epsilon_value)"
   ]
  },
  {
   "cell_type": "markdown",
   "id": "6d90ec54-8034-4a09-a857-68f60dd5b34a",
   "metadata": {},
   "source": [
    "#### For training the DQN model set `train=True` in the below cell or else we will load the trained model and inference the results."
   ]
  },
  {
   "cell_type": "code",
   "execution_count": 14,
   "id": "c1045bc6-f448-4922-9a7a-068f84ed4421",
   "metadata": {},
   "outputs": [
    {
     "name": "stderr",
     "output_type": "stream",
     "text": [
      "2021-12-17 10:19:27.640 python[26866:3552689] Warning: Expected min height of view: (<NSPopoverTouchBarItemButton: 0x7fcefebce960>) to be less than or equal to 30 but got a height of 32.000000. This error will be logged once per view in violation.\n",
      "2021-12-17 10:19:27.642 python[26866:3552689] Warning: Expected min height of view: (<NSButton: 0x7fcf151f2b90>) to be less than or equal to 30 but got a height of 32.000000. This error will be logged once per view in violation.\n",
      "2021-12-17 10:19:27.645 python[26866:3552689] Warning: Expected min height of view: (<NSPopoverTouchBarItemButton: 0x7fceff01f2e0>) to be less than or equal to 30 but got a height of 32.000000. This error will be logged once per view in violation.\n",
      "2021-12-17 10:19:27.647 python[26866:3552689] Warning: Expected min height of view: (<NSPopoverTouchBarItemButton: 0x7fcefd962be0>) to be less than or equal to 30 but got a height of 32.000000. This error will be logged once per view in violation.\n"
     ]
    },
    {
     "name": "stdout",
     "output_type": "stream",
     "text": [
      "CPU times: user 8.8 s, sys: 886 ms, total: 9.69 s\n",
      "Wall time: 14.7 s\n"
     ]
    },
    {
     "data": {
      "image/png": "[encoded data removed]",
      "text/plain": [
       "<Figure size 432x288 with 1 Axes>"
      ]
     },
     "metadata": {
      "needs_background": "light"
     },
     "output_type": "display_data"
    }
   ],
   "source": [
    "%%time\n",
    "train=False\n",
    "\n",
    "if train:\n",
    "    episodes, scores, avg_scores, obj = dqn_agent.train_model(env, 5000, graph=True)\n",
    "    plt.plot(scores, label=\"episode reward\")\n",
    "    plt.plot(avg_scores, label=\"average reward\")\n",
    "    plt.title(\"DQN\")\n",
    "else:\n",
    "    # Load the trained model and inference the results\n",
    "    file_type = 'tf'\n",
    "    file = 'saved_networks/dqn_model0'\n",
    "    dqn_agent.test(env, 10, file_type, file, True)\n",
    "    "
   ]
  },
  {
   "cell_type": "markdown",
   "id": "1f68645d-5189-41dd-8bb9-7bcc215d4561",
   "metadata": {},
   "source": [
    "#### If you want to train run the below cell."
   ]
  },
  {
   "cell_type": "code",
   "execution_count": 5,
   "id": "bd5799c3-1356-4ace-9f4e-0923e7e9950c",
   "metadata": {},
   "outputs": [
    {
     "name": "stderr",
     "output_type": "stream",
     "text": [
      "2021-12-16 18:31:14.876126: I tensorflow/compiler/mlir/mlir_graph_optimization_pass.cc:116] None of the MLIR optimization passes are enabled (registered 2)\n"
     ]
    },
    {
     "name": "stdout",
     "output_type": "stream",
     "text": [
      "Episode 0/5000, Score: -322.7501496124823, AVG Score: -322.7501496124823\n",
      "Episode 1/5000, Score: -296.92122887610714, AVG Score: -309.8356892442947\n",
      "Episode 2/5000, Score: -90.58033245657049, AVG Score: -236.7505703150533\n",
      "Episode 3/5000, Score: -148.55615974619866, AVG Score: -214.70196767283963\n",
      "Episode 4/5000, Score: -597.593857786032, AVG Score: -291.2803456954781\n",
      "Episode 5/5000, Score: -7.4221490293137435, AVG Score: -243.97064625111736\n",
      "Episode 6/5000, Score: -238.6258340904791, AVG Score: -243.20710165674043\n",
      "Episode 7/5000, Score: -97.65832335678247, AVG Score: -225.01350436924574\n",
      "Episode 8/5000, Score: -369.0460333819393, AVG Score: -241.01711870398947\n",
      "Episode 9/5000, Score: -113.26354539152072, AVG Score: -228.24176137274262\n",
      "Episode 10/5000, Score: -108.25776325659426, AVG Score: -217.3341251803655\n",
      "Episode 11/5000, Score: -87.58584102012722, AVG Score: -206.5217681670123\n",
      "Episode 12/5000, Score: -155.5888238269702, AVG Score: -202.60384937162448\n",
      "Episode 13/5000, Score: -237.24408256426545, AVG Score: -205.0781517425274\n",
      "Episode 14/5000, Score: -398.22335318338367, AVG Score: -217.95449850525117\n",
      "Episode 15/5000, Score: -97.95312892262787, AVG Score: -210.45441290633715\n",
      "Episode 16/5000, Score: -179.7032610395799, AVG Score: -208.6455216200573\n",
      "Episode 17/5000, Score: -57.48214565246861, AVG Score: -200.2475562885246\n",
      "Episode 18/5000, Score: -38.23985652015548, AVG Score: -191.72083524808414\n",
      "Episode 19/5000, Score: -50.8603430224988, AVG Score: -184.67781063680488\n",
      "Episode 20/5000, Score: -30.2069840175454, AVG Score: -177.3220569882687\n",
      "Episode 21/5000, Score: -8.883011010742639, AVG Score: -169.665736716563\n",
      "Episode 22/5000, Score: -16.94610026245462, AVG Score: -163.02575252290612\n",
      "Episode 23/5000, Score: -59.68392013464674, AVG Score: -158.71984284006194\n",
      "Episode 24/5000, Score: -41.77079412117007, AVG Score: -154.04188089130628\n",
      "Episode 25/5000, Score: -53.77389496543124, AVG Score: -150.18541989415723\n",
      "Episode 26/5000, Score: -11.610572589819924, AVG Score: -145.05301814214477\n",
      "Episode 27/5000, Score: -59.84867555532794, AVG Score: -142.0100059069013\n",
      "Episode 28/5000, Score: -71.11747867048804, AVG Score: -139.5654360021974\n",
      "Episode 29/5000, Score: -132.42873256089308, AVG Score: -139.32754588748728\n",
      "Episode 30/5000, Score: -55.19175595406432, AVG Score: -136.61348814769943\n",
      "Episode 31/5000, Score: -115.22624350567769, AVG Score: -135.94513675263624\n",
      "Episode 32/5000, Score: -64.26025526461845, AVG Score: -133.77286761663572\n",
      "Episode 33/5000, Score: -41.50466590664537, AVG Score: -131.0590969781066\n",
      "Episode 34/5000, Score: -94.60372839596222, AVG Score: -130.01751501861676\n",
      "Episode 35/5000, Score: -105.95984772692205, AVG Score: -129.34924648273633\n",
      "Episode 36/5000, Score: -27.700514697190574, AVG Score: -126.60198346150537\n",
      "Episode 37/5000, Score: -41.646411444997014, AVG Score: -124.36631051370253\n",
      "Episode 38/5000, Score: -93.0318131603609, AVG Score: -123.56286186361685\n",
      "Episode 39/5000, Score: -88.88039309169456, AVG Score: -122.69580014431874\n",
      "Episode 40/5000, Score: -81.57465005935124, AVG Score: -121.69284526419759\n",
      "Episode 41/5000, Score: -32.12794195324514, AVG Score: -119.56034756631776\n",
      "Episode 42/5000, Score: -63.147227568978685, AVG Score: -118.24841454312381\n",
      "Episode 43/5000, Score: -23.862331738062323, AVG Score: -116.10327629755425\n",
      "Episode 44/5000, Score: -55.04274128775639, AVG Score: -114.74637551955873\n",
      "Episode 45/5000, Score: -55.68659431020821, AVG Score: -113.46246723239894\n",
      "Episode 46/5000, Score: -106.646810272205, AVG Score: -113.31745325452246\n",
      "Episode 47/5000, Score: -81.65004306460932, AVG Score: -112.65771554223265\n",
      "Episode 48/5000, Score: -79.64660731761643, AVG Score: -111.98401945601599\n",
      "Episode 49/5000, Score: -77.41888568648336, AVG Score: -111.29271678062533\n",
      "Episode 50/5000, Score: -40.490996811333446, AVG Score: -109.9044477616196\n",
      "Episode 51/5000, Score: -56.749662105421685, AVG Score: -108.88224034515426\n",
      "Episode 52/5000, Score: -39.75163862694134, AVG Score: -107.57788936933892\n",
      "Episode 53/5000, Score: -118.47516890807765, AVG Score: -107.77969084227853\n",
      "Episode 54/5000, Score: -46.62124635540437, AVG Score: -106.66771912433536\n",
      "Episode 55/5000, Score: -18.704752597529705, AVG Score: -105.09695186492812\n",
      "Episode 56/5000, Score: -86.65550911563048, AVG Score: -104.77341778160711\n",
      "Episode 57/5000, Score: -105.67943101156703, AVG Score: -104.78903869936505\n",
      "Episode 58/5000, Score: -41.19093517012611, AVG Score: -103.71110474124235\n",
      "Episode 59/5000, Score: -44.573287300090044, AVG Score: -102.72547445055648\n",
      "Episode 60/5000, Score: -37.68056284000204, AVG Score: -101.65916442415396\n",
      "Episode 61/5000, Score: -59.75033694924346, AVG Score: -100.98321559391346\n",
      "Episode 62/5000, Score: -55.77929735531033, AVG Score: -100.2656930821896\n",
      "Episode 63/5000, Score: -221.85060619239982, AVG Score: -102.16545734953661\n",
      "Episode 64/5000, Score: -30.833797317527306, AVG Score: -101.068047195198\n",
      "Episode 65/5000, Score: -62.00414733479553, AVG Score: -100.47616992458585\n",
      "Episode 66/5000, Score: -112.58946450267989, AVG Score: -100.65696536604995\n",
      "Episode 67/5000, Score: -74.98929031337899, AVG Score: -100.27949955645184\n",
      "Episode 68/5000, Score: -79.37195386375063, AVG Score: -99.97649164786196\n",
      "Episode 69/5000, Score: -101.04276106344192, AVG Score: -99.99172406808452\n",
      "Episode 70/5000, Score: -118.02131241527967, AVG Score: -100.24566193212954\n",
      "Episode 71/5000, Score: -72.47364376502878, AVG Score: -99.85993945758648\n",
      "Episode 72/5000, Score: -96.0369222942147, AVG Score: -99.8075693594581\n",
      "Episode 73/5000, Score: -37.90040686243155, AVG Score: -98.97098608247126\n",
      "Episode 74/5000, Score: -128.82632658959938, AVG Score: -99.36905728923297\n",
      "Episode 75/5000, Score: -112.74345824490126, AVG Score: -99.54503624917596\n",
      "Episode 76/5000, Score: -84.36640866022735, AVG Score: -99.34791121555327\n",
      "Episode 77/5000, Score: -110.72112581844661, AVG Score: -99.49372165918011\n",
      "Episode 78/5000, Score: -128.45342125382288, AVG Score: -99.86030013506166\n",
      "Episode 79/5000, Score: -93.06243766912232, AVG Score: -99.77532685423742\n",
      "Episode 80/5000, Score: -76.13022013659932, AVG Score: -99.4834119564888\n",
      "Episode 81/5000, Score: -97.21914540436192, AVG Score: -99.45579894975555\n",
      "Episode 82/5000, Score: -55.94022758393644, AVG Score: -98.93151495739629\n",
      "Episode 83/5000, Score: -63.99760711317576, AVG Score: -98.51563510210794\n",
      "Episode 84/5000, Score: -78.41311799950532, AVG Score: -98.27913490090086\n",
      "Episode 85/5000, Score: -54.162438635296915, AVG Score: -97.76615006060314\n",
      "Episode 86/5000, Score: 7.6942023606267975, AVG Score: -96.55396210173843\n",
      "Episode 87/5000, Score: -60.88974564072266, AVG Score: -96.1486869146814\n",
      "Episode 88/5000, Score: -76.8571670884744, AVG Score: -95.93192826494874\n",
      "Episode 89/5000, Score: -63.45872729039614, AVG Score: -95.57111492078704\n",
      "Episode 90/5000, Score: -62.653562550666464, AVG Score: -95.20938357606043\n",
      "Episode 91/5000, Score: -54.54349799558722, AVG Score: -94.76736308062051\n",
      "Episode 92/5000, Score: -19.562761033180745, AVG Score: -93.95871144570181\n",
      "Episode 93/5000, Score: -30.995366642043273, AVG Score: -93.2888886286416\n",
      "Episode 94/5000, Score: -17.933095491701113, AVG Score: -92.4956697535159\n",
      "Episode 95/5000, Score: -58.01117296285748, AVG Score: -92.13645624527992\n",
      "Episode 96/5000, Score: -27.73808512628495, AVG Score: -91.47255551209439\n",
      "Episode 97/5000, Score: -92.36274895126617, AVG Score: -91.48163911861654\n",
      "Episode 98/5000, Score: -57.68875517452343, AVG Score: -91.140296856555\n",
      "Episode 99/5000, Score: -21.373131402886777, AVG Score: -90.44262520201832\n",
      "Episode 100/5000, Score: -132.16088676535182, AVG Score: -88.536732573547\n",
      "Episode 101/5000, Score: -32.51827343255635, AVG Score: -85.89270301911152\n",
      "Episode 102/5000, Score: -23.983015375919035, AVG Score: -85.226729848305\n",
      "Episode 103/5000, Score: -133.01249827396808, AVG Score: -85.07129323358271\n",
      "Episode 104/5000, Score: -33.72196530261367, AVG Score: -79.43257430874851\n",
      "Episode 105/5000, Score: -27.73567391686992, AVG Score: -79.63570955762408\n",
      "Episode 106/5000, Score: -349.92938606739597, AVG Score: -80.74874507739324\n",
      "Episode 107/5000, Score: -127.74672739453389, AVG Score: -81.04962911777075\n",
      "Episode 108/5000, Score: -57.400156819728196, AVG Score: -77.93317035214864\n",
      "Episode 109/5000, Score: -123.37267028218737, AVG Score: -78.03426160105532\n",
      "Episode 110/5000, Score: -106.49322457281707, AVG Score: -78.01661621421754\n",
      "Episode 111/5000, Score: -80.64857116577883, AVG Score: -77.94724351567406\n",
      "Episode 112/5000, Score: -41.544738529765944, AVG Score: -76.80680266270201\n",
      "Episode 113/5000, Score: 57.59870561718401, AVG Score: -73.8583747808875\n",
      "Episode 114/5000, Score: -15.130577029607846, AVG Score: -70.02744701934975\n",
      "Episode 115/5000, Score: -145.37049614646972, AVG Score: -70.50162069158817\n",
      "Episode 116/5000, Score: -56.8808199121495, AVG Score: -69.27339628031386\n",
      "Episode 117/5000, Score: -45.31891760910497, AVG Score: -69.15176399988023\n",
      "Episode 118/5000, Score: -51.05468765645108, AVG Score: -69.2799123112432\n",
      "Episode 119/5000, Score: -32.96110727176765, AVG Score: -69.10091995373588\n",
      "Episode 120/5000, Score: -37.1521590833928, AVG Score: -69.17037170439434\n",
      "Episode 121/5000, Score: -64.9138164108904, AVG Score: -69.73067975839584\n",
      "Episode 122/5000, Score: -81.33809904455218, AVG Score: -70.3745997462168\n",
      "Episode 123/5000, Score: -41.87691105885579, AVG Score: -70.1965296554589\n",
      "Episode 124/5000, Score: -66.11509874476938, AVG Score: -70.43997270169488\n",
      "Episode 125/5000, Score: -68.07869556961008, AVG Score: -70.58302070773667\n",
      "Episode 126/5000, Score: 241.666204234248, AVG Score: -68.05025293949599\n",
      "Episode 127/5000, Score: -79.78008693754494, AVG Score: -68.24956705331817\n",
      "Episode 128/5000, Score: -77.84400559394072, AVG Score: -68.3168323225527\n",
      "Episode 129/5000, Score: -11.943086566170257, AVG Score: -67.11197586260548\n",
      "Episode 130/5000, Score: -83.29945190721811, AVG Score: -67.39305282213701\n",
      "Episode 131/5000, Score: -25.496893813613923, AVG Score: -66.49575932521637\n",
      "Episode 132/5000, Score: -167.09828685822959, AVG Score: -67.52413964115247\n",
      "Episode 133/5000, Score: -114.7662922015601, AVG Score: -68.25675590410162\n",
      "Episode 134/5000, Score: -77.6314298950137, AVG Score: -68.08703291909214\n",
      "Episode 135/5000, Score: -92.27196236355232, AVG Score: -67.95015406545845\n",
      "Episode 136/5000, Score: -354.4238809730829, AVG Score: -71.21738772821737\n",
      "Episode 137/5000, Score: -62.16447800006909, AVG Score: -71.42256839376809\n",
      "Episode 138/5000, Score: 7.2887339803938245, AVG Score: -70.41936292236055\n",
      "Episode 139/5000, Score: 45.07068305523005, AVG Score: -69.07985216089129\n",
      "Episode 140/5000, Score: -35.34288739436095, AVG Score: -68.6175345342414\n",
      "Episode 141/5000, Score: -19.70415670723552, AVG Score: -68.4932966817813\n",
      "Episode 142/5000, Score: -48.77131037916513, AVG Score: -68.34953750988316\n",
      "Episode 143/5000, Score: -49.58310711241209, AVG Score: -68.60674526362666\n",
      "Episode 144/5000, Score: -91.41127607043676, AVG Score: -68.97043061145345\n",
      "Episode 145/5000, Score: 1.6793980555488435, AVG Score: -68.3967706877959\n",
      "Episode 146/5000, Score: -84.72071799984856, AVG Score: -68.17750976507233\n",
      "Episode 147/5000, Score: -94.49112249183426, AVG Score: -68.30592055934457\n",
      "Episode 148/5000, Score: -94.22470081968093, AVG Score: -68.45170149436521\n",
      "Episode 149/5000, Score: 25.721415433162008, AVG Score: -67.42029848316878\n",
      "Episode 150/5000, Score: -1.3248346157053559, AVG Score: -67.02863686121248\n",
      "Episode 151/5000, Score: -118.60505457100842, AVG Score: -67.64719078586835\n",
      "Episode 152/5000, Score: -17.658448772008864, AVG Score: -67.42625888731902\n",
      "Episode 153/5000, Score: -85.91908154174838, AVG Score: -67.10069801365574\n",
      "Episode 154/5000, Score: -34.36956038109097, AVG Score: -66.97818115391262\n",
      "Episode 155/5000, Score: -4.109454962843559, AVG Score: -66.83222817756575\n",
      "Episode 156/5000, Score: -60.373366288129795, AVG Score: -66.56940674929074\n",
      "Episode 157/5000, Score: -111.64510297568839, AVG Score: -66.62906346893193\n",
      "Episode 158/5000, Score: -40.36289990429028, AVG Score: -66.62078311627357\n",
      "Episode 159/5000, Score: -38.10626226604577, AVG Score: -66.55611286593314\n",
      "Episode 160/5000, Score: -10.334731556282671, AVG Score: -66.28265455309594\n",
      "Episode 161/5000, Score: 71.4316055293694, AVG Score: -64.97083512830982\n",
      "Episode 162/5000, Score: 22.707871534529623, AVG Score: -64.18596343941141\n",
      "Episode 163/5000, Score: -35.78180399958907, AVG Score: -62.32527541748332\n",
      "Episode 164/5000, Score: -78.26462253590118, AVG Score: -62.799583669667044\n",
      "Episode 165/5000, Score: 1.0687324563767202, AVG Score: -62.16885487175533\n",
      "Episode 166/5000, Score: 190.21662215327638, AVG Score: -59.140794005195765\n",
      "Episode 167/5000, Score: -41.36204809606646, AVG Score: -58.80452158302264\n",
      "Episode 168/5000, Score: -72.47302164801897, AVG Score: -58.73553226086532\n",
      "Episode 169/5000, Score: -12.730855590195318, AVG Score: -57.852413206132866\n",
      "Episode 170/5000, Score: 207.7461629697167, AVG Score: -54.59473845228291\n",
      "Episode 171/5000, Score: -27.886665799032908, AVG Score: -54.148868672622946\n",
      "Episode 172/5000, Score: 29.27957584854984, AVG Score: -52.8957036911953\n",
      "Episode 173/5000, Score: -42.39062224944859, AVG Score: -52.94060584506548\n",
      "Episode 174/5000, Score: -63.62482672828722, AVG Score: -52.28859084645235\n",
      "Episode 175/5000, Score: 18.092884192647706, AVG Score: -50.98022742207685\n",
      "Episode 176/5000, Score: -39.525755129892175, AVG Score: -50.5318208867735\n",
      "Episode 177/5000, Score: 16.25665212150491, AVG Score: -49.262043107373984\n",
      "Episode 178/5000, Score: 178.64376722359805, AVG Score: -46.191071222599774\n",
      "Episode 179/5000, Score: 77.33084751245673, AVG Score: -44.48713837078399\n",
      "Episode 180/5000, Score: 158.80703130236685, AVG Score: -42.137765856394324\n",
      "Episode 181/5000, Score: 36.00300033550138, AVG Score: -40.80554439899569\n",
      "Episode 182/5000, Score: 248.3688581875809, AVG Score: -37.76245354128052\n",
      "Episode 183/5000, Score: 109.98486563930351, AVG Score: -36.02262881375574\n",
      "Episode 184/5000, Score: 217.3369200600366, AVG Score: -33.06512843316031\n",
      "Episode 185/5000, Score: 224.5193844721182, AVG Score: -30.27831020208616\n",
      "Episode 186/5000, Score: 13.771238779032359, AVG Score: -30.217539837902105\n",
      "Episode 187/5000, Score: -1.91278366174393, AVG Score: -29.627770218112314\n",
      "Episode 188/5000, Score: 255.47196430992668, AVG Score: -26.3044789041283\n",
      "Episode 189/5000, Score: 172.05322264170985, AVG Score: -23.949359404807247\n",
      "Episode 190/5000, Score: 40.35337711532475, AVG Score: -22.919290008147332\n",
      "Episode 191/5000, Score: 235.55864497670052, AVG Score: -20.018268578424454\n",
      "Episode 192/5000, Score: 228.1387654002143, AVG Score: -17.5412533140905\n",
      "Episode 193/5000, Score: 230.5490494933747, AVG Score: -14.925809152736319\n",
      "Episode 194/5000, Score: 125.73068160867746, AVG Score: -13.489171381732536\n",
      "Episode 195/5000, Score: 265.43636790859705, AVG Score: -10.25469597301799\n",
      "Episode 196/5000, Score: 268.00082918582586, AVG Score: -7.297306829896883\n",
      "Episode 197/5000, Score: 263.9094111094246, AVG Score: -3.7345852292899746\n",
      "Episode 198/5000, Score: 87.49405270713794, AVG Score: -2.2827571504733624\n",
      "Episode 199/5000, Score: 224.0287443329529, AVG Score: 0.17126160688503433\n",
      "Episode 200/5000, Score: 257.1166809627108, AVG Score: 4.06403728416566\n",
      "Episode 201/5000, Score: 215.48607992075057, AVG Score: 6.544080817698728\n",
      "Episode 202/5000, Score: 274.9292981625089, AVG Score: 9.53320395308301\n",
      "Episode 203/5000, Score: 239.89227465213932, AVG Score: 13.262251682344083\n",
      "Episode 204/5000, Score: 268.2056822522429, AVG Score: 16.281528157892648\n",
      "Episode 205/5000, Score: 232.76189410842233, AVG Score: 18.886503838145572\n",
      "Episode 206/5000, Score: 254.72306174320912, AVG Score: 24.933028316251622\n",
      "Episode 207/5000, Score: 191.45602111970368, AVG Score: 28.125055801394\n",
      "Episode 208/5000, Score: 179.74511401226434, AVG Score: 30.496508509713923\n",
      "Episode 209/5000, Score: 266.6768726184694, AVG Score: 34.39700393872049\n",
      "Episode 210/5000, Score: 219.59445339466978, AVG Score: 37.65788071839536\n",
      "Episode 211/5000, Score: 234.2167627484088, AVG Score: 40.80653405753724\n",
      "Episode 212/5000, Score: 241.0828101331893, AVG Score: 43.6328095441668\n",
      "Episode 213/5000, Score: 248.80375188138373, AVG Score: 45.544860006808776\n",
      "Episode 214/5000, Score: -91.61049921195675, AVG Score: 44.78006078498529\n",
      "Episode 215/5000, Score: 253.12667444596212, AVG Score: 48.7650324909096\n",
      "Episode 216/5000, Score: 126.06575585017873, AVG Score: 50.594498248532894\n",
      "Episode 217/5000, Score: 216.88527202599897, AVG Score: 53.21654014488393\n",
      "Episode 218/5000, Score: 276.1462813781568, AVG Score: 56.488549835230025\n",
      "Episode 219/5000, Score: 3.6678701195860697, AVG Score: 56.85483960914355\n",
      "Episode 220/5000, Score: -39.14537794739515, AVG Score: 56.834907420503534\n",
      "Episode 221/5000, Score: -48.039239246948256, AVG Score: 57.00365319214295\n",
      "Episode 222/5000, Score: 271.54722831943036, AVG Score: 60.53250646578278\n",
      "Episode 223/5000, Score: 235.30612583055031, AVG Score: 63.30433683467684\n",
      "Episode 224/5000, Score: 240.84944205183893, AVG Score: 66.37398224264294\n",
      "Episode 225/5000, Score: 275.3172933277193, AVG Score: 69.80794213161623\n",
      "Episode 226/5000, Score: 256.1844647971444, AVG Score: 69.95312473724519\n",
      "Episode 227/5000, Score: 263.8940875543217, AVG Score: 73.38986648216385\n",
      "Episode 228/5000, Score: 226.6180247682516, AVG Score: 76.43448678578578\n",
      "Episode 229/5000, Score: 273.9493351986511, AVG Score: 79.29341100343399\n",
      "Episode 230/5000, Score: 259.06591646653237, AVG Score: 82.71706468717147\n",
      "Episode 231/5000, Score: 267.88963227360637, AVG Score: 85.65092994804371\n",
      "Episode 232/5000, Score: 159.0579964737544, AVG Score: 88.91249278136353\n",
      "Episode 233/5000, Score: 157.08902599973555, AVG Score: 91.63104596337648\n",
      "Episode 234/5000, Score: 231.43389817606607, AVG Score: 94.7216992440873\n",
      "Episode 235/5000, Score: -200.5221296598371, AVG Score: 93.63919757112443\n",
      "Episode 236/5000, Score: 204.99354374732007, AVG Score: 99.23337181832846\n",
      "Episode 237/5000, Score: -41.2474224439415, AVG Score: 99.44254237388974\n",
      "Episode 238/5000, Score: 200.2594890676855, AVG Score: 101.37224992476264\n",
      "Episode 239/5000, Score: 182.93564618809782, AVG Score: 102.75089955609134\n",
      "Episode 240/5000, Score: 259.723123642995, AVG Score: 105.70155966646489\n",
      "Episode 241/5000, Score: 226.39182218233873, AVG Score: 108.16251945536064\n",
      "Episode 242/5000, Score: 253.89289524015905, AVG Score: 111.18916151155386\n",
      "Episode 243/5000, Score: 245.6648186448142, AVG Score: 114.14164076912613\n",
      "Episode 244/5000, Score: -227.36198248663277, AVG Score: 112.78213370496418\n",
      "Episode 245/5000, Score: 275.569749962219, AVG Score: 115.52103722403088\n",
      "Episode 246/5000, Score: 279.1945128408636, AVG Score: 119.160189532438\n",
      "Episode 247/5000, Score: 279.17723867029264, AVG Score: 122.89687314405928\n",
      "Episode 248/5000, Score: 185.0238767120271, AVG Score: 125.68935891937633\n",
      "Episode 249/5000, Score: 260.64170126309205, AVG Score: 128.03856177767565\n",
      "Episode 250/5000, Score: 235.46157966147427, AVG Score: 130.40642592044745\n",
      "Episode 251/5000, Score: 217.9081556806127, AVG Score: 133.77155802296366\n",
      "Episode 252/5000, Score: 293.2784619783005, AVG Score: 136.88092713046674\n",
      "Episode 253/5000, Score: 264.50260541449654, AVG Score: 140.3851440000292\n",
      "Episode 254/5000, Score: 254.109962285667, AVG Score: 143.26993922669678\n",
      "Episode 255/5000, Score: 220.81536516677957, AVG Score: 145.519187427993\n",
      "Episode 256/5000, Score: 268.51112549897414, AVG Score: 148.80803234586404\n",
      "Episode 257/5000, Score: 300.55722377047624, AVG Score: 152.9300556133257\n",
      "Episode 258/5000, Score: 187.8579355999189, AVG Score: 155.21226396836778\n",
      "Episode 259/5000, Score: 274.95841607940315, AVG Score: 158.34291075182227\n",
      "Episode 260/5000, Score: 255.21642599687982, AVG Score: 160.99842232735392\n",
      "Episode 261/5000, Score: -70.9618849061573, AVG Score: 159.57448742299863\n",
      "Episode 262/5000, Score: -32.58121596049391, AVG Score: 159.0215965480484\n",
      "Episode 263/5000, Score: 136.48231669133105, AVG Score: 160.74423775495762\n",
      "Episode 264/5000, Score: 288.12306018063566, AVG Score: 164.40811458212295\n",
      "Episode 265/5000, Score: 280.5222142102468, AVG Score: 167.20264939966165\n",
      "Episode 266/5000, Score: 266.0167940394222, AVG Score: 167.96065111852317\n",
      "Episode 267/5000, Score: 268.7124644847453, AVG Score: 171.0613962443313\n",
      "Episode 268/5000, Score: 212.91615547883976, AVG Score: 173.91528801559988\n",
      "Episode 269/5000, Score: 237.50370134135648, AVG Score: 176.4176335849154\n",
      "Episode 270/5000, Score: 281.5889688520286, AVG Score: 177.1560616437385\n",
      "Episode 271/5000, Score: 232.7451775668463, AVG Score: 179.7623800773973\n",
      "Episode 272/5000, Score: 267.92445201056296, AVG Score: 182.1488288390174\n",
      "Episode 273/5000, Score: 271.471060087311, AVG Score: 185.287445662385\n",
      "Episode 274/5000, Score: 259.41150176362737, AVG Score: 188.51780894730416\n",
      "Episode 275/5000, Score: 238.75403927028688, AVG Score: 190.72442049808055\n",
      "Episode 276/5000, Score: -54.90918148167454, AVG Score: 190.5705862345627\n",
      "Episode 277/5000, Score: 253.68889505309602, AVG Score: 192.94490866387864\n",
      "Episode 278/5000, Score: 253.45713671657984, AVG Score: 193.69304235880844\n",
      "Episode 279/5000, Score: 184.15332626893974, AVG Score: 194.76126714637329\n",
      "Episode 280/5000, Score: 289.15881642264924, AVG Score: 196.06478499757614\n",
      "Episode 281/5000, Score: 251.74808771507335, AVG Score: 198.22223587137185\n",
      "Episode 282/5000, Score: 274.03250964146036, AVG Score: 198.47887238591062\n",
      "Episode 283/5000, Score: 209.92551918170972, AVG Score: 199.47827892133466\n",
      "Episode 284/5000, Score: 204.38503811447282, AVG Score: 199.34876010187907\n",
      "Episode 285/5000, Score: 188.60806418272716, AVG Score: 198.98964689898511\n",
      "Episode 286/5000, Score: 149.71714565709576, AVG Score: 200.34910596776575\n",
      "Episode 287/5000, Score: 267.65328628340046, AVG Score: 203.0447666672172\n",
      "Episode 288/5000, Score: 179.16526318849048, AVG Score: 202.2816996560028\n",
      "Episode 289/5000, Score: 260.30904112561564, AVG Score: 203.16425784084188\n",
      "Episode 290/5000, Score: 227.2955802242247, AVG Score: 205.03367987193087\n",
      "Episode 291/5000, Score: 179.53227783244327, AVG Score: 204.47341620048834\n",
      "Episode 292/5000, Score: 250.24221702220328, AVG Score: 204.6944507167082\n",
      "Episode 293/5000, Score: 208.77628530540636, AVG Score: 204.47672307482847\n",
      "Episode 294/5000, Score: 272.0406463410129, AVG Score: 205.9398227221519\n",
      "Episode 295/5000, Score: 243.44640266248095, AVG Score: 205.7199230696907\n",
      "Episode 296/5000, Score: 254.01278952556726, AVG Score: 205.5800426730881\n",
      "Episode 297/5000, Score: 223.69399654509272, AVG Score: 205.17788852744482\n",
      "Episode 298/5000, Score: 275.9210483852378, AVG Score: 207.06215848422576\n",
      "Episode 299/5000, Score: 199.5429520872982, AVG Score: 206.81730056176923\n",
      "Episode 300/5000, Score: 244.80379663888192, AVG Score: 206.69417171853092\n",
      "Episode 301/5000, Score: 249.73905765492555, AVG Score: 207.0367014958727\n",
      "Episode 302/5000, Score: 236.76897934328403, AVG Score: 206.65509830768042\n",
      "Episode 303/5000, Score: 121.12663999957067, AVG Score: 205.46744196115478\n",
      "Episode 304/5000, Score: 260.4021242983237, AVG Score: 205.38940638161563\n",
      "Episode 305/5000, Score: 278.3921620722949, AVG Score: 205.8457090612543\n",
      "Episode 306/5000, Score: 319.3663185323988, AVG Score: 206.4921416291462\n",
      "Episode 307/5000, Score: 262.9157547730907, AVG Score: 207.20673896568013\n",
      "Episode 308/5000, Score: 228.41904759285424, AVG Score: 207.69347830148598\n",
      "Episode 309/5000, Score: 18.497209428401163, AVG Score: 205.21168166958535\n",
      "Episode 310/5000, Score: 281.7784040250521, AVG Score: 205.83352117588913\n",
      "Episode 311/5000, Score: 235.31392040130984, AVG Score: 205.8444927524182\n",
      "Episode 312/5000, Score: 293.7420059723252, AVG Score: 206.37108471080953\n",
      "Episode 313/5000, Score: 262.98240503849445, AVG Score: 206.51287124238064\n",
      "Episode 314/5000, Score: 287.8925833785695, AVG Score: 210.30790206828587\n",
      "Episode 315/5000, Score: 271.06768415674776, AVG Score: 210.48731216539377\n",
      "Episode 316/5000, Score: 122.11987355293519, AVG Score: 210.44785334242133\n",
      "Episode 317/5000, Score: -158.84368205557757, AVG Score: 206.69056380160552\n",
      "Episode 318/5000, Score: 259.07147680763876, AVG Score: 206.51981575590037\n",
      "Episode 319/5000, Score: 225.72911069459929, AVG Score: 208.74042816165053\n",
      "Episode 320/5000, Score: 222.87998106813754, AVG Score: 211.36068175180583\n",
      "Episode 321/5000, Score: 312.9995048595764, AVG Score: 214.97106919287108\n",
      "Episode 322/5000, Score: 175.73891365415557, AVG Score: 214.01298604621834\n",
      "Episode 323/5000, Score: 236.70105540807896, AVG Score: 214.02693534199364\n",
      "Episode 324/5000, Score: 267.4672721901752, AVG Score: 214.293113643377\n",
      "Episode 325/5000, Score: 209.79228978933168, AVG Score: 213.6378636079931\n",
      "Episode 326/5000, Score: 241.59701047684544, AVG Score: 213.49198906479012\n",
      "Episode 327/5000, Score: 270.90087889381437, AVG Score: 213.56205697818507\n",
      "Episode 328/5000, Score: 269.1241228364165, AVG Score: 213.9871179588667\n",
      "Episode 329/5000, Score: 252.30068417655428, AVG Score: 213.7706314486457\n",
      "Episode 330/5000, Score: 296.1671411158549, AVG Score: 214.14164369513892\n",
      "Episode 331/5000, Score: 216.84756602764986, AVG Score: 213.6312230326793\n",
      "Episode 332/5000, Score: 258.70221469217034, AVG Score: 214.62766521486347\n",
      "Episode 333/5000, Score: 260.90048356773286, AVG Score: 215.66577979054347\n",
      "Episode 334/5000, Score: 152.32433957970744, AVG Score: 214.8746842045799\n",
      "Episode 335/5000, Score: 262.86844438041055, AVG Score: 219.5085899449824\n",
      "Episode 336/5000, Score: 250.72619044639808, AVG Score: 219.96591641197318\n",
      "Episode 337/5000, Score: 273.90174751617815, AVG Score: 223.1174081115744\n",
      "Episode 338/5000, Score: 230.19039856000026, AVG Score: 223.41671720649754\n",
      "Episode 339/5000, Score: 254.05756852019445, AVG Score: 224.12793642981848\n",
      "Episode 340/5000, Score: 265.36330911135434, AVG Score: 224.18433828450213\n",
      "Episode 341/5000, Score: 304.56777686328974, AVG Score: 224.96609783131157\n",
      "Episode 342/5000, Score: 266.7402295029723, AVG Score: 225.09457117393973\n",
      "Episode 343/5000, Score: 239.11316674946738, AVG Score: 225.02905465498623\n",
      "Episode 344/5000, Score: -87.89319348051674, AVG Score: 226.4237425450474\n",
      "Episode 345/5000, Score: 242.21387702156005, AVG Score: 226.09018381564084\n",
      "Episode 346/5000, Score: 281.5727340509037, AVG Score: 226.1139660277412\n",
      "Episode 347/5000, Score: 232.7103077472257, AVG Score: 225.64929671851058\n",
      "Episode 348/5000, Score: 240.62633798131407, AVG Score: 226.2053213312034\n",
      "Episode 349/5000, Score: 145.89878574222385, AVG Score: 225.05789217599474\n",
      "Episode 350/5000, Score: 275.7148651042374, AVG Score: 225.46042503042239\n",
      "Episode 351/5000, Score: 261.53709927127426, AVG Score: 225.896714466329\n",
      "Episode 352/5000, Score: 235.3007493986314, AVG Score: 225.31693734053226\n",
      "Episode 353/5000, Score: 264.2826785753222, AVG Score: 225.3147380721405\n",
      "Episode 354/5000, Score: 271.8785862078954, AVG Score: 225.49242431136278\n",
      "Episode 355/5000, Score: 279.9459153832335, AVG Score: 226.08372981352733\n",
      "Episode 356/5000, Score: 258.05173023408577, AVG Score: 225.97913586087844\n",
      "Episode 357/5000, Score: 264.49998162042107, AVG Score: 225.6185634393779\n",
      "Episode 358/5000, Score: 263.8494766419137, AVG Score: 226.37847884979786\n",
      "Episode 359/5000, Score: 27.89229524900584, AVG Score: 223.90781764149392\n",
      "Episode 360/5000, Score: 263.90912839193317, AVG Score: 223.99474466544444\n",
      "Episode 361/5000, Score: 257.15287874683594, AVG Score: 227.27589230197438\n",
      "Episode 362/5000, Score: 265.087984668649, AVG Score: 230.2525843082658\n",
      "Episode 363/5000, Score: 87.21428189620099, AVG Score: 229.7599039603145\n",
      "Episode 364/5000, Score: 243.50795793660998, AVG Score: 229.31375293787423\n",
      "Episode 365/5000, Score: 276.1868465198046, AVG Score: 229.27039926096984\n",
      "Episode 366/5000, Score: 267.64851545836615, AVG Score: 229.2867164751593\n",
      "Episode 367/5000, Score: -12.418608790325365, AVG Score: 226.47540574240858\n",
      "Episode 368/5000, Score: 266.20184727797437, AVG Score: 227.00826266039994\n",
      "Episode 369/5000, Score: 227.8132633622606, AVG Score: 226.91135828060894\n",
      "Episode 370/5000, Score: 241.78540980638718, AVG Score: 226.51332269015248\n",
      "Episode 371/5000, Score: 214.52555544139483, AVG Score: 226.33112646889805\n",
      "Episode 372/5000, Score: 235.37666551812595, AVG Score: 226.00564860397364\n",
      "Episode 373/5000, Score: 279.97307265914503, AVG Score: 226.090668729692\n",
      "Episode 374/5000, Score: 292.30716891437714, AVG Score: 226.41962540119945\n",
      "Episode 375/5000, Score: 261.86596557464225, AVG Score: 226.650744664243\n",
      "Episode 376/5000, Score: 268.2582444362773, AVG Score: 229.88241892342256\n",
      "Episode 377/5000, Score: 204.86454992397864, AVG Score: 229.3941754721314\n",
      "Episode 378/5000, Score: 256.190317454979, AVG Score: 229.4215072795154\n",
      "Episode 379/5000, Score: -0.2536235022057838, AVG Score: 227.57743778180395\n",
      "Episode 380/5000, Score: 197.24712612914584, AVG Score: 226.65832087886895\n",
      "Episode 381/5000, Score: 214.9777826816335, AVG Score: 226.29061782853455\n",
      "Episode 382/5000, Score: 210.11699571640878, AVG Score: 225.65146268928402\n",
      "Episode 383/5000, Score: 266.55093834775005, AVG Score: 226.21771688094444\n",
      "Episode 384/5000, Score: 273.91314621933316, AVG Score: 226.91299796199303\n",
      "Episode 385/5000, Score: 285.7294904836451, AVG Score: 227.88421222500216\n",
      "Episode 386/5000, Score: 225.3288749324017, AVG Score: 228.64032951775525\n"
     ]
    },
    {
     "name": "stderr",
     "output_type": "stream",
     "text": [
      "2021-12-16 19:11:31.018991: W tensorflow/python/util/util.cc:348] Sets are not currently considered sequences, but this may change in the future, so consider avoiding using them.\n"
     ]
    },
    {
     "name": "stdout",
     "output_type": "stream",
     "text": [
      "INFO:tensorflow:Assets written to: saved_networks/dqn_model0/assets\n",
      "Network saved\n",
      "CPU times: user 40min 38s, sys: 2min 38s, total: 43min 16s\n",
      "Wall time: 40min 16s\n"
     ]
    }
   ],
   "source": [
    "%%time\n",
    "episodes, scores, avg_scores, obj = dqn_agent.train_model(env, 5000, graph=True)"
   ]
  },
  {
   "cell_type": "code",
   "execution_count": 16,
   "id": "ed19e8a4-58f1-4dd8-bfae-8426728e22ee",
   "metadata": {},
   "outputs": [
    {
     "data": {
      "image/png": "[encoded data removed]",
      "text/plain": [
       "<Figure size 432x288 with 1 Axes>"
      ]
     },
     "metadata": {
      "needs_background": "light"
     },
     "output_type": "display_data"
    }
   ],
   "source": [
    "# Training results\n",
    "plt.plot(scores, label=\"episode reward\")\n",
    "plt.plot(avg_scores, label=\"average reward\")\n",
    "plt.title(\"DQN\")\n",
    "plt.legend()\n",
    "plt.show()"
   ]
  },
  {
   "cell_type": "code",
   "execution_count": 11,
   "id": "4bb9c2c9-3841-4066-9482-ec38d76ff649",
   "metadata": {},
   "outputs": [
    {
     "name": "stderr",
     "output_type": "stream",
     "text": [
      "2021-12-16 19:36:25.708 python[26866:3552689] Warning: Expected min height of view: (<NSPopoverTouchBarItemButton: 0x7fcefef248e0>) to be less than or equal to 30 but got a height of 32.000000. This error will be logged once per view in violation.\n",
      "2021-12-16 19:36:25.708 python[26866:3552689] Warning: Expected min height of view: (<NSButton: 0x7fcf01d29cb0>) to be less than or equal to 30 but got a height of 32.000000. This error will be logged once per view in violation.\n",
      "2021-12-16 19:36:25.711 python[26866:3552689] Warning: Expected min height of view: (<NSPopoverTouchBarItemButton: 0x7fceff0449d0>) to be less than or equal to 30 but got a height of 32.000000. This error will be logged once per view in violation.\n",
      "2021-12-16 19:36:25.713 python[26866:3552689] Warning: Expected min height of view: (<NSPopoverTouchBarItemButton: 0x7fceff045d50>) to be less than or equal to 30 but got a height of 32.000000. This error will be logged once per view in violation.\n"
     ]
    },
    {
     "data": {
      "image/png": "[encoded data removed]",
      "text/plain": [
       "<Figure size 432x288 with 1 Axes>"
      ]
     },
     "metadata": {
      "needs_background": "light"
     },
     "output_type": "display_data"
    }
   ],
   "source": [
    "file_type = 'tf'\n",
    "file = 'saved_networks/dqn_model0'\n",
    "dqn_agent.test(env, 10, file_type, file, True)\n"
   ]
  },
  {
   "cell_type": "code",
   "execution_count": null,
   "id": "c988b08b-e89f-46b7-ae6b-b9a76768abfa",
   "metadata": {},
   "outputs": [],
   "source": []
  }
 ],
 "metadata": {
  "kernelspec": {
   "display_name": "Python 3 (ipykernel)",
   "language": "python",
   "name": "python3"
  },
  "language_info": {
   "codemirror_mode": {
    "name": "ipython",
    "version": 3
   },
   "file_extension": ".py",
   "mimetype": "text/x-python",
   "name": "python",
   "nbconvert_exporter": "python",
   "pygments_lexer": "ipython3",
   "version": "3.7.11"
  }
 },
 "nbformat": 4,
 "nbformat_minor": 5
}
